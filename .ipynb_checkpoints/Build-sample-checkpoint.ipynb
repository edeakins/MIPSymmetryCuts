{
 "cells": [
  {
   "cell_type": "code",
   "execution_count": 1,
   "metadata": {},
   "outputs": [],
   "source": [
    "import subprocess as sp\n",
    "import gurobipy as gp\n",
    "import sage.all as sg\n",
    "from sage.all import libgap as lg\n",
    "import re"
   ]
  },
  {
   "cell_type": "code",
   "execution_count": 62,
   "metadata": {},
   "outputs": [
    {
     "name": "stdout",
     "output_type": "stream",
     "text": [
      "Read MPS format model from file ../EQLPSolver/HiGHS-1-2-1/smallTests/codbt021.mps\n",
      "Reading time = 0.00 seconds\n",
      ": 9 rows, 9 columns, 45 nonzeros\n",
      "[[1, 5, 6, 7, 3, 8, 2, 9, 4], [10, 14, 15, 16, 12, 17, 11, 18, 13]]\n"
     ]
    }
   ],
   "source": [
    "# Read in mps file and create dicitonary for variable names and indices \n",
    "orig_model = gp.read(\"../EQLPSolver/HiGHS-1-2-1/smallTests/codbt021.mps\")\n",
    "orig_cols = orig_model.getVars()\n",
    "orig_rows = orig_model.getConstrs()\n",
    "col_idx = {col.varName : i for i, col in enumerate(orig_cols)}\n",
    "col_name = {i : col.varName for i, col in enumerate(orig_cols)}\n",
    "num_col = orig_model.numVars\n",
    "row_idx = {row.constrName : i + num_col for i , row in enumerate(orig_rows)}\n",
    "row_name = {i + num_col : row.constrName for i, row in enumerate(orig_rows)}\n",
    "# Call saucy on the lp graph\n",
    "saucy_out_file = open(\"./saucy_gens.txt\", \"w\")\n",
    "saucy_out = sp.Popen([\"./lp_saucy/bin/saucy2-5\",\"../EQLPSolver/HiGHS-1-2-1/smallTests/codbt021.mps\"], stdout = saucy_out_file,\n",
    "                            stderr = saucy_out_file)\n",
    "saucy_return, saucy_err = saucy_out.communicate()\n",
    "sage_gens = []\n",
    "gen_idx = 0\n",
    "# Read in the orbit generators from saucy\n",
    "with open(\"./saucy_gens.txt\") as f:\n",
    "    lines = f.readlines()\n",
    "    for line in lines:\n",
    "        if line[0] == \"C\":\n",
    "            continue\n",
    "        else:\n",
    "            sage_gens.append([])\n",
    "            orbits = re.findall(r\"\\((.*?)\\)\",line)\n",
    "            for orb in orbits:\n",
    "                temp = []\n",
    "                for node in orb.split(\" \"):\n",
    "                    if node in col_idx.keys():\n",
    "                        temp.append(col_idx.get(node) + 1)\n",
    "                    else:\n",
    "                        temp.append(row_idx.get(node) + 1)\n",
    "                temp = tuple(temp)\n",
    "                sage_gens[gen_idx].append(temp)\n",
    "            gen_idx += 1\n",
    "            \n",
    "# Do sage permutation group from the generators\n",
    "sage_perm_group = PermutationGroup(sage_gens)\n",
    "orbits = sage_perm_group.orbits()\n",
    "print(orbits)\n",
    "with open(\"./sage_orbits.txt\", \"w\") as f:\n",
    "    idx = 0\n",
    "    for orbit in orbits:\n",
    "        if idx:\n",
    "            f.write(\"\\n\")\n",
    "        for el in orbit:\n",
    "            f.write(str(el - 1) + \"\\n\")\n",
    "#             print(el - 1, \"\\n\")\n",
    "        idx += 1\n",
    "\n",
    "gap_perm_group = lg(sage_perm_group)\n",
    "\n",
    "\n",
    "\n",
    "\n",
    "\n",
    "\n",
    "# orbital_ref = {-1 : sage_perm_group.orbits()}\n",
    "# orbital_ref[0] = sage_perm_group.stabilizer(0).orbits()\n",
    "# new_group = sage_perm_group.stabilizer(0)\n",
    "# print(new_group.stabilizer(1).orbits())\n"
   ]
  },
  {
   "cell_type": "code",
   "execution_count": null,
   "metadata": {},
   "outputs": [],
   "source": []
  },
  {
   "cell_type": "code",
   "execution_count": null,
   "metadata": {},
   "outputs": [],
   "source": []
  }
 ],
 "metadata": {
  "kernelspec": {
   "display_name": "SageMath 9.6",
   "language": "sage",
   "name": "sagemath"
  },
  "language_info": {
   "codemirror_mode": {
    "name": "ipython",
    "version": 3
   },
   "file_extension": ".py",
   "mimetype": "text/x-python",
   "name": "python",
   "nbconvert_exporter": "python",
   "pygments_lexer": "ipython3",
   "version": "3.9.13"
  }
 },
 "nbformat": 4,
 "nbformat_minor": 4
}
