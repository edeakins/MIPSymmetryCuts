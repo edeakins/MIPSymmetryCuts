{
 "cells": [
  {
   "cell_type": "code",
   "execution_count": 34,
   "metadata": {},
   "outputs": [],
   "source": [
    "from gurobipy import *"
   ]
  },
  {
   "cell_type": "code",
   "execution_count": 60,
   "metadata": {},
   "outputs": [
    {
     "name": "stdout",
     "output_type": "stream",
     "text": [
      "Read MPS format model from file ../jim_instances/codbt71.mps\n",
      "Reading time = 0.00 seconds\n",
      "OBJROW: 384 rows, 384 columns, 3840 nonzeros\n",
      "Changed value of parameter Presolve to 0\n",
      "   Prev: -1  Min: -1  Max: 2  Default: -1\n"
     ]
    }
   ],
   "source": [
    "m = read(\"../jim_instances/codbt04.mps\")\n",
    "m.setParam(\"Presolve\",0)\n",
    "for var in m.getVars():\n",
    "    var.vType = GRB.INTEGER"
   ]
  },
  {
   "cell_type": "code",
   "execution_count": 45,
   "metadata": {},
   "outputs": [
    {
     "name": "stdout",
     "output_type": "stream",
     "text": [
      "Changed value of parameter TimeLimit to 746.5\n",
      "   Prev: inf  Min: 0.0  Max: inf  Default: inf\n",
      "Gurobi Optimizer version 9.1.0 build v9.1.0rc0 (linux64)\n",
      "Thread count: 12 physical cores, 24 logical processors, using up to 24 threads\n",
      "Optimize a model with 384 rows, 384 columns and 3840 nonzeros\n",
      "Model fingerprint: 0x67737f16\n",
      "Variable types: 0 continuous, 384 integer (0 binary)\n",
      "Coefficient statistics:\n",
      "  Matrix range     [1e+00, 1e+00]\n",
      "  Objective range  [1e+00, 1e+00]\n",
      "  Bounds range     [1e+00, 1e+00]\n",
      "  RHS range        [1e+00, 1e+00]\n",
      "Found heuristic solution: objective 192.0000000\n",
      "Variable types: 0 continuous, 384 integer (384 binary)\n",
      "\n",
      "Root relaxation: objective 3.840000e+01, 1901 iterations, 0.17 seconds\n",
      "\n",
      "    Nodes    |    Current Node    |     Objective Bounds      |     Work\n",
      " Expl Unexpl |  Obj  Depth IntInf | Incumbent    BestBd   Gap | It/Node Time\n",
      "\n",
      "     0     0   38.40000    0  192  192.00000   38.40000  80.0%     -    0s\n",
      "H    0     0                      93.0000000   38.40000  58.7%     -    0s\n",
      "H    0     0                      83.0000000   38.40000  53.7%     -    0s\n",
      "H    0     0                      69.0000000   38.40000  44.3%     -    0s\n",
      "H    0     0                      68.0000000   38.40000  43.5%     -    0s\n",
      "H    0     0                      67.0000000   38.40000  42.7%     -    0s\n",
      "     0     0   38.40000    0  318   67.00000   38.40000  42.7%     -    0s\n",
      "H    0     0                      65.0000000   38.40000  40.9%     -    0s\n",
      "H    0     0                      64.0000000   38.40000  40.0%     -    0s\n",
      "H    0     0                      62.0000000   38.40000  38.1%     -    0s\n",
      "     0     0   38.40000    0  192   62.00000   38.40000  38.1%     -    0s\n",
      "     0     0   38.40000    0  264   62.00000   38.40000  38.1%     -    0s\n",
      "     0     0   38.40000    0  240   62.00000   38.40000  38.1%     -    0s\n",
      "H    0     0                      60.0000000   38.40000  36.0%     -    1s\n",
      "     0     2   38.40000    0  192   60.00000   38.40000  36.0%     -    1s\n",
      "H   29    40                      59.0000000   38.40000  34.9%   250    1s\n",
      "H   79    89                      57.0000000   38.40000  32.6%   199    2s\n",
      "H  117   128                      56.0000000   38.40000  31.4%   198    2s\n",
      "H  123   128                      55.0000000   38.40000  30.2%   196    2s\n",
      "H  154   166                      54.0000000   38.40000  28.9%   200    3s\n",
      "H  161   166                      52.0000000   38.40000  26.2%   201    3s\n",
      "   251   264   41.23592   16  267   52.00000   38.40000  26.2%   197    5s\n",
      "H  252   264                      51.0000000   38.40000  24.7%   196    5s\n",
      "H  258   264                      49.0000000   38.40000  21.6%   197    5s\n",
      "H  263   292                      48.0000000   38.40000  20.0%   195    5s\n",
      "  1828  1521   40.33586    7  240   48.00000   38.84602  19.1%   141   10s\n",
      "  1835  1531   38.84602   14  240   48.00000   38.84602  19.1%   143   15s\n",
      "  3369  2539   39.45205   40  327   48.00000   38.95386  18.8%   138   20s\n",
      "  8997  6714   40.07783   29  313   48.00000   39.05458  18.6%   137   25s\n",
      " 14394 11594   41.59015   39  293   48.00000   39.49640  17.7%   140   30s\n",
      " 22721 19606   41.37429   28  296   48.00000   39.66970  17.4%   145   35s\n",
      " 31274 27415   41.36731   33  290   48.00000   39.91903  16.8%   143   40s\n",
      " 41481 35774   41.96925   49  271   48.00000   40.04328  16.6%   141   45s\n",
      "\n",
      "Explored 47024 nodes (6644130 simplex iterations) in 47.46 seconds\n",
      "Thread count was 24 (of 24 available processors)\n",
      "\n",
      "Solution count 10: 48 49 51 ... 60\n",
      "\n",
      "Solve interrupted\n",
      "Best objective 4.800000000000e+01, best bound 4.100000000000e+01, gap 14.5833%\n"
     ]
    }
   ],
   "source": [
    "\n",
    "\n",
    "m.setParam(\"TimeLimit\", 746.5)\n",
    "m.optimize()\n"
   ]
  },
  {
   "cell_type": "code",
   "execution_count": 73,
   "metadata": {},
   "outputs": [
    {
     "name": "stdout",
     "output_type": "stream",
     "text": [
      "Read LP format model from file testSi.lp\n",
      "Reading time = 0.00 seconds\n",
      "OBJROW: 35 rows, 9 columns, 264 nonzeros\n",
      "Changed value of parameter TimeLimit to 746.5\n",
      "   Prev: inf  Min: 0.0  Max: inf  Default: inf\n",
      "Gurobi Optimizer version 9.1.0 build v9.1.0rc0 (linux64)\n",
      "Thread count: 12 physical cores, 24 logical processors, using up to 24 threads\n",
      "Optimize a model with 35 rows, 9 columns and 264 nonzeros\n",
      "Model fingerprint: 0x64bfbf22\n",
      "Variable types: 0 continuous, 9 integer (0 binary)\n",
      "Coefficient statistics:\n",
      "  Matrix range     [2e-01, 7e+00]\n",
      "  Objective range  [1e+00, 1e+00]\n",
      "  Bounds range     [1e+00, 1e+00]\n",
      "  RHS range        [5e-01, 1e+01]\n",
      "Found heuristic solution: objective 3.0000000\n",
      "Presolve removed 25 rows and 0 columns\n",
      "Presolve time: 0.00s\n",
      "Presolved: 10 rows, 9 columns, 53 nonzeros\n",
      "Variable types: 0 continuous, 9 integer (9 binary)\n",
      "\n",
      "Root relaxation: cutoff, 0 iterations, 0.00 seconds\n",
      "\n",
      "Explored 0 nodes (0 simplex iterations) in 0.01 seconds\n",
      "Thread count was 24 (of 24 available processors)\n",
      "\n",
      "Solution count 1: 3 \n",
      "\n",
      "Optimal solution found (tolerance 1.00e-04)\n",
      "Best objective 3.000000000000e+00, best bound 3.000000000000e+00, gap 0.0000%\n",
      "X0 = 0.0\n",
      "X1 = 0.0\n",
      "X2 = 0.0\n",
      "X3 = 0.0\n",
      "X4 = 0.0\n",
      "X5 = 1.0\n",
      "X6 = 1.0\n",
      "X7 = 1.0\n",
      "X8 = 0.0\n"
     ]
    }
   ],
   "source": [
    "m = read(\"testSi.lp\")\n",
    "m.setParam(\"TimeLimit\", 746.5)\n",
    "# for i in range(len(m.getConstrs())):\n",
    "#     if i >= 120:\n",
    "#         m.getConstrs()[i].lazy = 1\n",
    "#         m.update()\n",
    "# #     print(m.getConstrs()[i].lazy)\n",
    "m.optimize()\n",
    "for var in m.getVars():\n",
    "    print(var.varName, \"=\", var.x)"
   ]
  },
  {
   "cell_type": "raw",
   "metadata": {},
   "source": []
  },
  {
   "cell_type": "code",
   "execution_count": null,
   "metadata": {},
   "outputs": [],
   "source": []
  }
 ],
 "metadata": {
  "kernelspec": {
   "display_name": "Python 3",
   "language": "python",
   "name": "python3"
  },
  "language_info": {
   "codemirror_mode": {
    "name": "ipython",
    "version": 3
   },
   "file_extension": ".py",
   "mimetype": "text/x-python",
   "name": "python",
   "nbconvert_exporter": "python",
   "pygments_lexer": "ipython3",
   "version": "3.8.3"
  }
 },
 "nbformat": 4,
 "nbformat_minor": 4
}
