{
 "cells": [
  {
   "cell_type": "code",
   "execution_count": 1,
   "metadata": {},
   "outputs": [],
   "source": [
    "import subprocess as sp\n",
    "import gurobipy as gp\n",
    "import sage.all as sg\n",
    "from sage.all import libgap as lg\n",
    "import re"
   ]
  },
  {
   "cell_type": "code",
   "execution_count": 2,
   "metadata": {},
   "outputs": [],
   "source": [
    "def write_orbits(orbits):\n",
    "    with open(\"./sage_orbits.txt\", \"w\") as f:\n",
    "        idx = 0\n",
    "        for orbit in orbits:\n",
    "            for el in orbit:\n",
    "                f.write(str(el - 1) + \" \")\n",
    "            f.write(\"\\n\")\n",
    "            idx += 1\n",
    "    print(\"Orbits Written\")\n",
    "            \n",
    "            \n",
    "def get_stabilizer_group_orbits(group):\n",
    "    group_orbits = group.orbits()\n",
    "    for orb in group_orbits:\n",
    "        if len(orb) > 1:\n",
    "            stable_pnt = orb[0]\n",
    "            stabilizer_group = group.stabilizer(stable_pnt)\n",
    "            print(\"New Orbits Calculated\")\n",
    "            return stabilizer_group, stabilizer_group.orbits()\n",
    "    print(\"Discrete Orbits Calculated\")\n",
    "    return group, group.orbits()\n",
    "        \n",
    "def concatenate_orbits(real_orbits, cut_orbits):\n",
    "    out = []\n",
    "    for orb in real_orbits:\n",
    "        out.append(orb)\n",
    "    for orb in cut_orbits:\n",
    "        out.append(orb)\n",
    "    print(\"Orbits Concatenated\")\n",
    "    return out\n",
    "\n",
    "def call_coin_cgl(lp_path):\n",
    "    cgl_cut_file = \"./CutGeneration/cut_txt_files/cuts.txt\"\n",
    "    cgl_out = sp.Popen([\"./CutGeneration/generateMIPCuts\",lp_path,\"./sage_orbits.txt\"], shell = False, \n",
    "                       stdout = sp.DEVNULL)\n",
    "    cgl_return, cgl_err = cgl_out.communicate()\n",
    "    print(\"Cgl Solved Aggregate LP\")\n",
    "    return cgl_return, cgl_err\n",
    "\n",
    "def generate_cut_orbits(gap_perm_group, lp_path, cut_orbits):\n",
    "    cut_rhs = []\n",
    "    cut_added_model = gp.read(lp_path)\n",
    "    cols = cut_added_model.getVars()\n",
    "    rows = cut_added_model.getConstrs()\n",
    "    num_nodes = len(cols) + len(rows) + 1\n",
    "    with open(\"./CutGeneration/cut_txt_files/cuts.txt\") as cuts_f:\n",
    "        lines = cuts_f.readlines()\n",
    "        for line in lines:\n",
    "            splt = line.split(\",\")\n",
    "            cut = []\n",
    "            rhs = (sg.RealNumber(splt[-1][:-1]))\n",
    "            sense = splt[-2]\n",
    "            for coeff in splt[:-2]:\n",
    "                cut.append(sg.RealNumber(coeff))\n",
    "            symmetric_cuts = lg.Orbit(gap_perm_group, cut, lg.Permuted)\n",
    "            new_orbits = []\n",
    "            for sym_cut in symmetric_cuts:\n",
    "                if sense == \"L\":\n",
    "                    expr = sum(sym_cut[i].sage() * orig_cols[i] for i in range(len(sym_cut))) <= rhs\n",
    "                elif sense == \"G\":\n",
    "                    expr = sum(sym_cut[i].sage() * orig_cols[i] for i in range(len(sym_cut))) >= rhs\n",
    "                else:\n",
    "                    expr = sum(sym_cut[i].sage() * orig_cols[i] for i in range(len(sym_cut))) == rhs\n",
    "                orig_model.addConstr(expr)\n",
    "                new_orbits.append(num_nodes)\n",
    "                num_nodes += 1\n",
    "            cut_orbits.append(new_orbits)\n",
    "    orig_model.write(\"test.mps\")\n",
    "    orig_model.write(\"test.lp\")\n",
    "    print(\"Cut Orbits Generated\")"
   ]
  },
  {
   "cell_type": "code",
   "execution_count": 3,
   "metadata": {},
   "outputs": [
    {
     "name": "stdout",
     "output_type": "stream",
     "text": [
      "Restricted license - for non-production use only - expires 2023-10-25\n",
      "Read MPS format model from file ../EQLPSolver/HS-COV-COD/cod103.mps\n",
      "Reading time = 0.00 seconds\n",
      "obj: 1024 rows, 1024 columns, 11264 nonzeros\n"
     ]
    }
   ],
   "source": [
    "# Read in mps file and create dicitonary for variable names and indices \n",
    "symm_lp = \"../EQLPSolver/HS-COV-COD/cod103.mps\";\n",
    "orig_model = gp.read(symm_lp)\n",
    "orig_cols = orig_model.getVars()\n",
    "orig_rows = orig_model.getConstrs()\n",
    "col_idx = {col.varName : i for i, col in enumerate(orig_cols)}\n",
    "col_name = {i : col.varName for i, col in enumerate(orig_cols)}\n",
    "num_col = orig_model.numVars\n",
    "row_idx = {row.constrName : i + num_col for i , row in enumerate(orig_rows)}\n",
    "row_name = {i + num_col : row.constrName for i, row in enumerate(orig_rows)}\n",
    "num_tot = len(orig_cols) + len(orig_rows)\n"
   ]
  },
  {
   "cell_type": "code",
   "execution_count": 4,
   "metadata": {},
   "outputs": [],
   "source": [
    "# Call saucy on the lp graph\n",
    "saucy_out_file = open(\"./saucy_gens.txt\", \"w\")\n",
    "saucy_out = sp.Popen([\"./lp_saucy/bin/saucy2-5\",symm_lp], stdout = saucy_out_file,\n",
    "                            stderr = saucy_out_file, shell = False)\n",
    "saucy_return, saucy_err = saucy_out.communicate()\n",
    "sage_gens = []\n",
    "gen_idx = 0\n",
    "# Read in the orbit generators from saucy\n",
    "with open(\"./saucy_gens.txt\") as f:\n",
    "    lines = f.readlines()\n",
    "    for line in lines:\n",
    "        if line[0] == \"C\":\n",
    "            continue\n",
    "        else:\n",
    "            sage_gens.append([])\n",
    "            orbits = re.findall(r\"\\((.*?)\\)\",line)\n",
    "            for orb in orbits:\n",
    "                temp = []\n",
    "                for node in orb.split(\" \"):\n",
    "                    if node in col_idx.keys():\n",
    "                        temp.append(col_idx.get(node) + 1)\n",
    "                    else:\n",
    "                        temp.append(row_idx.get(node) + 1)\n",
    "                temp = tuple(temp)\n",
    "                sage_gens[gen_idx].append(temp)\n",
    "            gen_idx += 1\n",
    "\n",
    "            \n",
    "# Do sage permutation group from the generators\n",
    "sage_perm_group = PermutationGroup(sage_gens)\n",
    "gap_group = lg(sage_perm_group)\n",
    "orbits_to_write = []\n",
    "cut_orbits = []\n",
    "\n",
    "\n"
   ]
  },
  {
   "cell_type": "code",
   "execution_count": 5,
   "metadata": {},
   "outputs": [
    {
     "name": "stdout",
     "output_type": "stream",
     "text": [
      "New Orbits Calculated\n",
      "Orbits Concatenated\n",
      "Orbits Written\n",
      "Cgl Solved Aggregate LP\n",
      "Read MPS format model from file ../EQLPSolver/HS-COV-COD/cod103.mps\n",
      "Reading time = 0.00 seconds\n",
      "obj: 1024 rows, 1024 columns, 11264 nonzeros\n",
      "Cut Orbits Generated\n",
      "Read MPS format model from file ./test.mps\n",
      "Reading time = 0.19 seconds\n",
      "obj: 2048 rows, 1024 columns, 1059840 nonzeros\n",
      "Gurobi Optimizer version 9.5.2 build v9.5.2rc0 (linux64)\n",
      "Thread count: 8 physical cores, 16 logical processors, using up to 16 threads\n"
     ]
    },
    {
     "ename": "GurobiError",
     "evalue": "Model too large for size-limited license; visit https://www.gurobi.com/free-trial for a full license",
     "output_type": "error",
     "traceback": [
      "\u001b[0;31m---------------------------------------------------------------------------\u001b[0m",
      "\u001b[0;31mGurobiError\u001b[0m                               Traceback (most recent call last)",
      "\u001b[0;32m/tmp/ipykernel_1622/1194804646.py\u001b[0m in \u001b[0;36m<cell line: 23>\u001b[0;34m()\u001b[0m\n\u001b[1;32m     21\u001b[0m \u001b[0;32mfor\u001b[0m \u001b[0mcol\u001b[0m \u001b[0;32min\u001b[0m \u001b[0mall_cols\u001b[0m\u001b[0;34m:\u001b[0m\u001b[0;34m\u001b[0m\u001b[0;34m\u001b[0m\u001b[0m\n\u001b[1;32m     22\u001b[0m     \u001b[0mcol\u001b[0m\u001b[0;34m.\u001b[0m\u001b[0mVType\u001b[0m \u001b[0;34m=\u001b[0m \u001b[0;34m'B'\u001b[0m\u001b[0;34m\u001b[0m\u001b[0;34m\u001b[0m\u001b[0m\n\u001b[0;32m---> 23\u001b[0;31m \u001b[0mall_cuts_added\u001b[0m\u001b[0;34m.\u001b[0m\u001b[0moptimize\u001b[0m\u001b[0;34m(\u001b[0m\u001b[0;34m)\u001b[0m\u001b[0;34m\u001b[0m\u001b[0;34m\u001b[0m\u001b[0m\n\u001b[0m",
      "\u001b[0;32msrc/gurobipy/model.pxi\u001b[0m in \u001b[0;36mgurobipy.Model.optimize\u001b[0;34m()\u001b[0m\n",
      "\u001b[0;31mGurobiError\u001b[0m: Model too large for size-limited license; visit https://www.gurobi.com/free-trial for a full license"
     ]
    }
   ],
   "source": [
    "# Get first stabilizer group and orbits\n",
    "stab_group, real_orbits = get_stabilizer_group_orbits(sage_perm_group)\n",
    "# Concatenate the orbits from the current stabilizer group\n",
    "# and from the generated cuts and group action on said cuts\n",
    "orbits_to_write = concatenate_orbits(real_orbits, cut_orbits)\n",
    "# Write the orbits to a text file to be read into aggregation code\n",
    "write_orbits(orbits_to_write)\n",
    "# Call coin-or cut generator that generates cuts from my aggregate lp\n",
    "call_coin_cgl(symm_lp)\n",
    "# Generate symmetrical cuts in the orbit of cuts from coin-or cgl\n",
    "generate_cut_orbits(gap_group, symm_lp, cut_orbits)\n",
    "# Run until the orbits are discrete\n",
    "# while (len(real_orbits) < num_tot):\n",
    "#     stab_group, real_orbits = get_stabilizer_group_orbits(stab_group)\n",
    "#     orbits_to_write = concatenate_orbits(real_orbits, cut_orbits)\n",
    "#     write_orbits(orbits_to_write)\n",
    "#     call_coin_cgl(\"./test.mps\")\n",
    "#     generate_cut_orbits(gap_group, \"./test.mps\", cut_orbits)\n",
    "all_cuts_added = gp.read(\"./test.mps\")\n",
    "all_cols = all_cuts_added.getVars()\n",
    "for col in all_cols:\n",
    "    col.VType = 'B'\n",
    "all_cuts_added.optimize() "
   ]
  },
  {
   "cell_type": "code",
   "execution_count": null,
   "metadata": {},
   "outputs": [],
   "source": []
  }
 ],
 "metadata": {
  "kernelspec": {
   "display_name": "SageMath 9.6",
   "language": "sage",
   "name": "sagemath"
  },
  "language_info": {
   "codemirror_mode": {
    "name": "ipython",
    "version": 3
   },
   "file_extension": ".py",
   "mimetype": "text/x-python",
   "name": "python",
   "nbconvert_exporter": "python",
   "pygments_lexer": "ipython3",
   "version": "3.9.13"
  }
 },
 "nbformat": 4,
 "nbformat_minor": 4
}
