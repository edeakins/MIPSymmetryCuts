{
 "cells": [
  {
   "cell_type": "code",
   "execution_count": 1,
   "id": "e19e3b6f",
   "metadata": {},
   "outputs": [],
   "source": [
    "import pynauty as pn\n",
    "import cplex as cp"
   ]
  },
  {
   "cell_type": "code",
   "execution_count": 2,
   "id": "599b0c59",
   "metadata": {},
   "outputs": [
    {
     "name": "stdout",
     "output_type": "stream",
     "text": [
      "21\n",
      "[0, 0, 0, 0, 0, 0, 0, 0, 0, 9, 9, 9, 9, 9, 9, 9, 9, 9, 18, 19, 19, 19, 19, 19, 19, 19, 19, 19, 28, 28, 28, 28, 28, 28, 28, 28, 28, 37, 38, 39, 40, 40, 40, 40, 40, 40, 40, 40, 40, 49, 50, 50, 50, 50, 50, 50, 50, 50, 50, 59, 59, 59, 59, 59, 59, 59, 59, 59, 68, 68, 68, 68, 68, 68, 68, 68, 68, 77, 78, 79, 79, 79, 79, 83, 84, 85, 85, 85, 85, 89, 89, 89, 89, 93, 94, 94, 94, 94, 98, 98, 98, 98, 102, 103, 104, 105, 106, 106, 106, 106, 110, 110, 110, 110, 114, 115, 116, 116, 116, 116, 120, 120, 120, 120, 124, 125, 125, 125, 125, 129, 129, 129, 129, 133, 134, 134, 134, 134, 138, 138, 138, 138, 142, 79, 78, 79, 79, 79, 83, 89, 89, 85, 89, 85, 85, 85, 84, 89, 98, 98, 94, 98, 94, 94, 94, 93, 98, 102, 103, 104, 110, 110, 106, 110, 106, 106, 106, 105, 110, 114, 120, 120, 116, 120, 116, 116, 116, 115, 120, 129, 129, 125, 129, 125, 125, 125, 124, 129, 138, 138, 134, 138, 134, 134, 134, 133, 138, 142, 79, 79, 78, 79, 79, 83, 89, 85, 89, 85, 89, 85, 85, 89, 84, 98, 94, 98, 94, 98, 94, 94, 98, 93, 102, 103, 104, 110, 106, 110, 106, 110, 106, 106, 110, 105, 114, 120, 116, 120, 116, 120, 116, 116, 120, 115, 129, 125, 129, 125, 129, 125, 125, 129, 124, 138, 134, 138, 134, 138, 134, 134, 138, 133, 142, 79, 78, 79, 79, 79, 83, 89, 89, 89, 85, 85, 89, 84, 85, 85, 98, 98, 98, 94, 94, 98, 93, 94, 94, 102, 103, 104, 110, 110, 110, 106, 106, 110, 105, 106, 106, 114, 120, 120, 120, 116, 116, 120, 115, 116, 116, 129, 129, 129, 125, 125, 129, 124, 125, 125, 138, 138, 138, 134, 134, 138, 133, 134, 134, 142, 79, 79, 78, 79, 79, 83, 85, 84, 89, 89, 85, 85, 89, 89, 85, 94, 93, 98, 98, 94, 94, 98, 98, 94, 102, 103, 104, 106, 105, 110, 110, 106, 106, 110, 110, 106, 114, 116, 115, 120, 120, 116, 116, 120, 120, 116, 125, 124, 129, 129, 125, 125, 129, 129, 125, 134, 133, 138, 138, 134, 134, 138, 138, 134, 142, 79, 79, 79, 78, 79, 83, 85, 89, 84, 85, 89, 85, 89, 85, 89, 94, 98, 93, 94, 98, 94, 98, 94, 98, 102, 103, 104, 106, 110, 105, 106, 110, 106, 110, 106, 110, 114, 116, 120, 115, 116, 120, 116, 120, 116, 120, 125, 129, 124, 125, 129, 125, 129, 125, 129, 134, 138, 133, 134, 138, 134, 138, 134, 138, 142, 79, 79, 78, 79, 79, 83, 89, 85, 85, 89, 89, 84, 89, 85, 85, 98, 94, 94, 98, 98, 93, 98, 94, 94, 102, 103, 104, 110, 106, 106, 110, 110, 105, 110, 106, 106, 114, 120, 116, 116, 120, 120, 115, 120, 116, 116, 129, 125, 125, 129, 129, 124, 129, 125, 125, 138, 134, 134, 138, 138, 133, 138, 134, 134, 142, 79, 79, 79, 78, 79, 83, 85, 89, 85, 84, 89, 89, 85, 89, 85, 94, 98, 94, 93, 98, 98, 94, 98, 94, 102, 103, 104, 106, 110, 106, 105, 110, 110, 106, 110, 106, 114, 116, 120, 116, 115, 120, 120, 116, 120, 116, 125, 129, 125, 124, 129, 129, 125, 129, 125, 134, 138, 134, 133, 138, 138, 134, 138, 134, 142, 79, 79, 79, 79, 78, 83, 85, 85, 89, 89, 84, 89, 85, 85, 89, 94, 94, 98, 98, 93, 98, 94, 94, 98, 102, 103, 104, 106, 106, 110, 110, 105, 110, 106, 106, 110, 114, 116, 116, 120, 120, 115, 120, 116, 116, 120, 125, 125, 129, 129, 124, 129, 125, 125, 129, 134, 134, 138, 138, 133, 138, 134, 134, 138, 142]\n"
     ]
    }
   ],
   "source": [
    "m = cp.Cplex(\"./cut_added_model_cplex.lp\")\n",
    "node = {}\n",
    "col_node = {}\n",
    "row_node = {}\n",
    "edg_node = {}\n",
    "edg_wght = {}\n",
    "wght_color = {}\n",
    "rhs_color = {}\n",
    "node_color = {}\n",
    "num_col = m.variables.get_num()\n",
    "num_row = m.linear_constraints.get_num()\n",
    "num_color = 0\n",
    "num_node = 0\n",
    "for i_col in range(num_col):\n",
    "    node[i_col] = i_col\n",
    "    col_node[i_col] = i_col\n",
    "    node_color[i_col] = num_color\n",
    "    num_node += 1\n",
    "for i_row in range(num_row):\n",
    "    rhs = m.linear_constraints.get_rhs(i_row)\n",
    "    node[num_col + i_row] = num_col + i_row\n",
    "    row_node[i_row] = num_col + i_row\n",
    "    if rhs_color.get(rhs) is None:\n",
    "        num_color += 1\n",
    "        rhs_color[rhs] = num_color\n",
    "    node_color[num_col + i_row] = rhs_color.get(rhs)\n",
    "    num_node += 1\n",
    "edg_cnt = 0\n",
    "for i_col in range(num_col):\n",
    "    index, value = m.variables.get_cols(i_col).unpack()\n",
    "    for idx, val in zip(index, value):\n",
    "        node[num_col + num_row + edg_cnt] = num_col + num_row + edg_cnt\n",
    "        edg_node[edg_cnt] = num_col + num_row + edg_cnt\n",
    "        edg_wght[edg_cnt] = val\n",
    "        if wght_color.get(val) is None:\n",
    "            num_color += 1\n",
    "            wght_color[val] = num_color\n",
    "        this_color = wght_color.get(val)\n",
    "        node_color[num_col + num_row + edg_cnt] = this_color\n",
    "        edg_cnt += 1\n",
    "        num_node += 1\n",
    "\n",
    "tri_part_graph = pn.Graph(num_node)\n",
    "edg_cnt = 0\n",
    "for i_col in range(num_col):\n",
    "    index, value = m.variables.get_cols(i_col).unpack()\n",
    "    connect_edg_node = []\n",
    "    for idx, val in zip(index, value):\n",
    "        connect_edg_node.append(num_col + num_row + edg_cnt)\n",
    "        tri_part_graph.connect_vertex(num_col + num_row + edg_cnt, [num_col + idx])\n",
    "        edg_cnt += 1\n",
    "    tri_part_graph.connect_vertex(i_col, connect_edg_node)\n",
    "color_sets = []\n",
    "print(num_color)\n",
    "for color in range(num_color):\n",
    "    color_set = set()\n",
    "    for node in range(num_node):\n",
    "        n_color = node_color.get(node)\n",
    "        if n_color == color:\n",
    "            color_set.add(node)\n",
    "    color_sets.append(color_set)\n",
    "tri_part_graph.set_vertex_coloring(color_sets)\n",
    "(generators, grpsize1, grpsize2, orbits, numorbits) = pn.autgrp(tri_part_graph)\n",
    "print(orbits)"
   ]
  },
  {
   "cell_type": "code",
   "execution_count": null,
   "id": "13f50f12",
   "metadata": {},
   "outputs": [],
   "source": []
  },
  {
   "cell_type": "code",
   "execution_count": null,
   "id": "d6aa4ac4",
   "metadata": {},
   "outputs": [],
   "source": []
  }
 ],
 "metadata": {
  "kernelspec": {
   "display_name": "Python 3 (ipykernel)",
   "language": "python",
   "name": "python3"
  },
  "language_info": {
   "codemirror_mode": {
    "name": "ipython",
    "version": 3
   },
   "file_extension": ".py",
   "mimetype": "text/x-python",
   "name": "python",
   "nbconvert_exporter": "python",
   "pygments_lexer": "ipython3",
   "version": "3.9.12"
  }
 },
 "nbformat": 4,
 "nbformat_minor": 5
}
